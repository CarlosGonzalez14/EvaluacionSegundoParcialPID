{
  "cells": [
    {
      "cell_type": "markdown",
      "metadata": {
        "id": "WtGDHZTRMQ4x"
      },
      "source": [
        "# **Parte 1: Creación y manipulación de arrays**\n",
        "\n",
        "## **Crear un array**\n",
        "### Crea un array de 10 elementos enteros aleatorios entre 1 y 100. Imprime el array generado.\n",
        "\n",
        "Para crear un array de 10 elementos con enteros aleatorios entre 1 y 100 hacemos uso de la función _np.random.randint()_ la cual genera números aleatorios en un rango definido. Como tercer parámetro de nuestra función, simplemente establecemos el tamaño que tendrá nuestro arreglo.\n"
      ]
    },
    {
      "cell_type": "code",
      "execution_count": 1,
      "metadata": {
        "colab": {
          "base_uri": "https://localhost:8080/"
        },
        "id": "5RFSO4R7K5LF",
        "outputId": "81510923-50f2-4b7a-b799-131a52532e09"
      },
      "outputs": [
        {
          "name": "stdout",
          "output_type": "stream",
          "text": [
            "[ 1 32 87 97 32 92  2 34  9  2]\n"
          ]
        }
      ],
      "source": [
        "!pip install numpy\n",
        "import numpy as np\n",
        "\n",
        "array = np.random.randint(1, 101, size=10)\n",
        "print(array)\n"
      ]
    },
    {
      "cell_type": "markdown",
      "metadata": {
        "id": "YcFZmRNSM0O_"
      },
      "source": []
    },
    {
      "cell_type": "markdown",
      "metadata": {
        "id": "1uPhDj6tN9C6"
      },
      "source": [
        "## **Reshape**\n",
        "### A partir del array anterior, convierte este array en una matriz de 2x5.\n",
        "\n",
        "Nuestro arreglo cuenta ya con 10 elementos. Al utilizar la función _array.reshape()_ que reorganizará los elementos en dos filas y cinco columnas."
      ]
    },
    {
      "cell_type": "code",
      "execution_count": 2,
      "metadata": {
        "colab": {
          "base_uri": "https://localhost:8080/"
        },
        "id": "r2FBxzNHOIe9",
        "outputId": "9240f670-a84e-4e0c-91ad-dcd0217286c2"
      },
      "outputs": [
        {
          "name": "stdout",
          "output_type": "stream",
          "text": [
            "[[ 1 32 87 97 32]\n",
            " [92  2 34  9  2]]\n"
          ]
        }
      ],
      "source": [
        "matriz = array.reshape(2, 5)\n",
        "print(matriz)"
      ]
    },
    {
      "cell_type": "markdown",
      "metadata": {
        "id": "d-qOZQwlOwz2"
      },
      "source": [
        "## **Indexación y slicing**\n",
        "### De la matriz obtenida, extrae la primera fila y la última columna. Imprime ambos resultados por separado.\n",
        "Para llevar a cabo esta tarea, usaré el slicing.\n",
        "\n",
        "El primer número de los corchetes indica la o las filas que se quieren extraer de la matriz original.\n",
        "\n",
        "El segundo número indica la o las columnas que quieren extraerse de la matriz.\n",
        "\n",
        "Por último, un valor positivo comenzando desde el cero indica un índice de fila o columna a extraer comenzando desde la primera fila o columna. Un valor negativo indica un índice de fila o columna comenzando desde la última fila o columna."
      ]
    },
    {
      "cell_type": "code",
      "execution_count": 3,
      "metadata": {
        "colab": {
          "base_uri": "https://localhost:8080/"
        },
        "id": "7gKIQw9oO6-4",
        "outputId": "6c41899e-b15d-47f0-fbd7-1e4ff6edc280"
      },
      "outputs": [
        {
          "name": "stdout",
          "output_type": "stream",
          "text": [
            "Primera fila\n",
            "[ 1 32 87 97 32]\n",
            "Última columna\n",
            "[32  2]\n"
          ]
        }
      ],
      "source": [
        "primera_fila = matriz[0, :]\n",
        "ultima_columna = matriz[:, -1]\n",
        "\n",
        "print(\"Primera fila\")\n",
        "print(primera_fila)\n",
        "print(\"Última columna\")\n",
        "print(ultima_columna)\n"
      ]
    },
    {
      "cell_type": "markdown",
      "metadata": {
        "id": "XDEzPqPSP-G-"
      },
      "source": [
        "## **Modificación**\n",
        "### Cambia el valor de los elementos en la segunda fila a ceros.\n",
        "Para esta tarea usaremos una asignación indicando 1 en el primer valor (la segunda fila) y dos puntos (:) en el segundo valor (todos los elementos de la segunda fila)."
      ]
    },
    {
      "cell_type": "code",
      "execution_count": 4,
      "metadata": {
        "colab": {
          "base_uri": "https://localhost:8080/"
        },
        "id": "lzdmYreJQHoh",
        "outputId": "ec84a65a-a928-49d4-fa82-9c7f0f79dc59"
      },
      "outputs": [
        {
          "name": "stdout",
          "output_type": "stream",
          "text": [
            "[[ 1 32 87 97 32]\n",
            " [ 0  0  0  0  0]]\n"
          ]
        }
      ],
      "source": [
        "matriz[1, :] = 0\n",
        "print(matriz)"
      ]
    },
    {
      "cell_type": "markdown",
      "metadata": {
        "id": "1gW9ExagQanl"
      },
      "source": [
        "# **Parte 2: Operaciones básicas con NumPy**\n",
        "## **Operaciones aritméticas**\n",
        "### Crea dos arrays de 5 elementos enteros aleatorios entre 1 y 50.\n",
        "Una vez más creamos dos arreglos utilizando la función _np.random.randint()_."
      ]
    },
    {
      "cell_type": "code",
      "execution_count": 6,
      "metadata": {
        "id": "6yfdkqYzQ34_"
      },
      "outputs": [],
      "source": [
        "array1 = np.random.randint(1, 51, size=5)\n",
        "array2 = np.random.randint(1, 51, size=5)"
      ]
    },
    {
      "cell_type": "markdown",
      "metadata": {
        "id": "jJg_HTMsRGwq"
      },
      "source": [
        "### Suma ambos arrays y luego multiplícalos entre sí.\n",
        "Podemos utilizar los operadores matemáticos tal cual o usar funciones para llevar a cabo estas operaciones. En este caso, opté por la primera opción."
      ]
    },
    {
      "cell_type": "code",
      "execution_count": 10,
      "metadata": {
        "colab": {
          "base_uri": "https://localhost:8080/"
        },
        "id": "0Js5UczqRKka",
        "outputId": "b1dc099e-478f-4f58-a5e9-83306a2701d0"
      },
      "outputs": [
        {
          "name": "stdout",
          "output_type": "stream",
          "text": [
            "Suma\n",
            "[48 57 52 29 29]\n",
            "Multiplicación\n",
            "[455 602 667 204 100]\n"
          ]
        }
      ],
      "source": [
        "suma_arrays = array1 + array2\n",
        "producto_arrays = array1 * array2\n",
        "\n",
        "print(\"Suma\")\n",
        "print(suma_arrays)\n",
        "print(\"Multiplicación\")\n",
        "print(producto_arrays)"
      ]
    },
    {
      "cell_type": "markdown",
      "metadata": {
        "id": "dBbtEZxERf86"
      },
      "source": [
        "### Calcula el promedio y la desviación estándar de los resultados obtenidos.\n",
        "Para esto usaremos las funciones _np.mean()_ y _np.std()_."
      ]
    },
    {
      "cell_type": "code",
      "execution_count": 11,
      "metadata": {
        "colab": {
          "base_uri": "https://localhost:8080/"
        },
        "id": "Z-3Sm77dRkL-",
        "outputId": "58beae30-3f51-427f-f698-4f9fff531033"
      },
      "outputs": [
        {
          "name": "stdout",
          "output_type": "stream",
          "text": [
            "Promedio\n",
            "405.6\n",
            "Desviación estándar\n",
            "220.62511189798863\n"
          ]
        }
      ],
      "source": [
        "promedio = np.mean(producto_arrays)\n",
        "desviacion_estandar = np.std(producto_arrays)\n",
        "\n",
        "print(\"Promedio\")\n",
        "print(promedio)\n",
        "print(\"Desviación estándar\")\n",
        "print(desviacion_estandar)"
      ]
    },
    {
      "cell_type": "markdown",
      "metadata": {
        "id": "c-pFuZ33RwDf"
      },
      "source": [
        "## **Condiciones lógicas**\n",
        "### Genera un array de 20 números aleatorios entre 0 y 1. Usa condiciones lógicas para\n"
      ]
    },
    {
      "cell_type": "code",
      "execution_count": 12,
      "metadata": {
        "id": "uDRXN9ffSN7O"
      },
      "outputs": [],
      "source": [
        "array_logico = np.random.rand(20)"
      ]
    },
    {
      "cell_type": "markdown",
      "metadata": {
        "id": "PgJAo9csSQvk"
      },
      "source": [
        "### Reemplazar los valores menores a 0.5 con 0. Reemplazar los valores mayores o iguales a 0.5 con 1.\n",
        "Podemos cumplir con estos dos requisitos con una única funció n _np.where()_ que es la contracción de un **if**."
      ]
    },
    {
      "cell_type": "code",
      "execution_count": 13,
      "metadata": {
        "colab": {
          "base_uri": "https://localhost:8080/"
        },
        "id": "Sr7P-sQeST3_",
        "outputId": "fc0d0b6e-0935-43f3-febd-72914f945f28"
      },
      "outputs": [
        {
          "name": "stdout",
          "output_type": "stream",
          "text": [
            "[1 1 0 1 0 1 1 1 1 1 0 0 1 1 1 0 1 0 1 1]\n"
          ]
        }
      ],
      "source": [
        "array_modificado = np.where(array_logico < 0.5, 0, 1)\n",
        "print(array_modificado)"
      ]
    },
    {
      "cell_type": "markdown",
      "metadata": {
        "id": "dVM-HO94Ssdj"
      },
      "source": [
        "## **Producto escalar**\n",
        "### Crea dos arrays de tamaño 3x3. Calcula el producto escalar entre ambos.\n",
        "Para esto emplearé la función _np.dot()_"
      ]
    },
    {
      "cell_type": "code",
      "execution_count": 16,
      "metadata": {
        "colab": {
          "base_uri": "https://localhost:8080/"
        },
        "id": "W9Kv0t55S1WW",
        "outputId": "186b32bf-f6f1-4dd3-9d19-cf5472cf2f0f"
      },
      "outputs": [
        {
          "name": "stdout",
          "output_type": "stream",
          "text": [
            "Matriz 1\n",
            "[[6 2 3]\n",
            " [5 8 8]\n",
            " [9 9 8]]\n",
            "Matriz 2\n",
            "[[4 7 8]\n",
            " [2 8 9]\n",
            " [1 8 2]]\n",
            "\n",
            "Producto escalar\n",
            "[[ 31  82  72]\n",
            " [ 44 163 128]\n",
            " [ 62 199 169]]\n"
          ]
        }
      ],
      "source": [
        "matriz1 = np.random.randint(1, 10, size=(3, 3))\n",
        "matriz2 = np.random.randint(1, 10, size=(3, 3))\n",
        "\n",
        "print(\"Matriz 1\")\n",
        "print(matriz1)\n",
        "print(\"Matriz 2\")\n",
        "print(matriz2)\n",
        "\n",
        "producto_escalar = np.dot(matriz1, matriz2)\n",
        "print(\"\\nProducto escalar\")\n",
        "print(producto_escalar)"
      ]
    },
    {
      "cell_type": "markdown",
      "metadata": {
        "id": "yB_VEXKgS90m"
      },
      "source": [
        "# **Parte 3: Análisis de datos con NumPy**\n",
        "## **Matriz de datos**\n",
        "### Crea una matriz de 5 filas y 4 columnas que contenga datos aleatorios entre 1 y 20. Cada fila representa a una persona, y cada columna representa una medición diferente (como altura, peso, edad, presión arterial)."
      ]
    },
    {
      "cell_type": "code",
      "execution_count": 17,
      "metadata": {
        "colab": {
          "base_uri": "https://localhost:8080/"
        },
        "id": "MDxha7a8T7wU",
        "outputId": "d5294b4e-2e9b-480b-ad75-496ecf4b3222"
      },
      "outputs": [
        {
          "name": "stdout",
          "output_type": "stream",
          "text": [
            "[[16 17  8 10]\n",
            " [12  9  2 18]\n",
            " [ 9  9  9 14]\n",
            " [17 17 13  3]\n",
            " [ 4 11 16 13]]\n"
          ]
        }
      ],
      "source": [
        "matriz_datos = np.random.randint(1, 21, size=(5, 4))\n",
        "print(matriz_datos)"
      ]
    },
    {
      "cell_type": "markdown",
      "metadata": {
        "id": "zI-iYSTaT9Jb"
      },
      "source": [
        "## **Estadísticas**\n",
        "### Calcula la media de cada columna (medición)\n",
        "La clave de esta tarea se encuentra en la función _np.mean()_. El valor del segundo parámetro _axis=0_ es el que determina que la media se tomará por columna."
      ]
    },
    {
      "cell_type": "code",
      "execution_count": 21,
      "metadata": {
        "colab": {
          "base_uri": "https://localhost:8080/"
        },
        "id": "LMhN7J6ZUCsx",
        "outputId": "b331cf87-6d1b-49f0-8321-00298cbe2f94"
      },
      "outputs": [
        {
          "name": "stdout",
          "output_type": "stream",
          "text": [
            "Media de cada columna\n",
            "[11.6 12.6  9.6 11.6]\n"
          ]
        }
      ],
      "source": [
        "media_columnas = np.mean(matriz_datos, axis=0)\n",
        "print(\"Media de cada columna\")\n",
        "print(media_columnas)"
      ]
    },
    {
      "cell_type": "markdown",
      "metadata": {
        "id": "uvU0srzFUZMR"
      },
      "source": [
        "### Encuentra el valor máximo y mínimo de cada fila.\n",
        "Al igual que el ejercicio anterior, la clave de este ejercicio se encuentra en el uso de _axis_. En este caso aplicado a las funciones _np.max()_ y _np.min()_. El valor _axis=1_ indica que se tomarán los valores mínimo y máximo por fila."
      ]
    },
    {
      "cell_type": "code",
      "execution_count": 20,
      "metadata": {
        "colab": {
          "base_uri": "https://localhost:8080/"
        },
        "id": "wsIZlFu4Uc6N",
        "outputId": "edd0d8d6-8432-4dd4-aefa-d263c4ba27e4"
      },
      "outputs": [
        {
          "name": "stdout",
          "output_type": "stream",
          "text": [
            "Máximos por fila\n",
            "[17 18 14 17 16]\n",
            "Mínimos por fila\n",
            "[8 2 9 3 4]\n"
          ]
        }
      ],
      "source": [
        "max_filas = np.max(matriz_datos, axis=1)\n",
        "min_filas = np.min(matriz_datos, axis=1)\n",
        "\n",
        "print(\"Máximos por fila\")\n",
        "print(max_filas)\n",
        "print(\"Mínimos por fila\")\n",
        "print(min_filas)"
      ]
    },
    {
      "cell_type": "markdown",
      "metadata": {
        "id": "QsI68jbeU7uV"
      },
      "source": [
        "### Ordena las filas según los valores de la segunda columna (peso).\n",
        "Para llevar a cabo el paso más complicado de todos necesitamos de _.argsort()_. Al hacer uso de esta función en conjunto de la segunda columna(_matriz_datos[:,1]_) podemos ordenar la matriz de acuerdo al valor en la segunda columna."
      ]
    },
    {
      "cell_type": "code",
      "execution_count": 22,
      "metadata": {
        "colab": {
          "base_uri": "https://localhost:8080/"
        },
        "id": "OnClsGYiVCNf",
        "outputId": "f7970859-4578-4083-bf93-93e959b1fc7c"
      },
      "outputs": [
        {
          "name": "stdout",
          "output_type": "stream",
          "text": [
            "[[12  9  2 18]\n",
            " [ 9  9  9 14]\n",
            " [ 4 11 16 13]\n",
            " [16 17  8 10]\n",
            " [17 17 13  3]]\n"
          ]
        }
      ],
      "source": [
        "matriz_ordenada = matriz_datos[matriz_datos[:, 1].argsort()]\n",
        "print(matriz_ordenada)"
      ]
    }
  ],
  "metadata": {
    "colab": {
      "provenance": []
    },
    "kernelspec": {
      "display_name": "Python 3",
      "name": "python3"
    },
    "language_info": {
      "name": "python"
    }
  },
  "nbformat": 4,
  "nbformat_minor": 0
}
